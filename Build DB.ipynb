{
 "cells": [
  {
   "cell_type": "code",
   "execution_count": 1,
   "metadata": {},
   "outputs": [],
   "source": [
    "import numpy as np\n",
    "import pandas as pd\n",
    "import os\n",
    "import random \n",
    "from shutil import copyfile\n",
    "import pydicom as dicom\n",
    "import cv2"
   ]
  },
  {
   "cell_type": "code",
   "execution_count": 2,
   "metadata": {},
   "outputs": [],
   "source": [
    "savepath = '/data/'\n",
    "COVIDPath = '/covid19/'\n",
    "Pneumonia1 = '/Chexpert/Pneumonia/'\n",
    "Pneumonia2 = '/NIH/Pneumonia/'\n",
    "Pneumonia3 = '/Chexpert/Pneumonia+1comorb/'\n",
    "Pneumonia4 = '/projects/ceib/padchest_covid19/pneumonia/'\n",
    "SARS = '/SARS/'\n",
    "ARDS = '/ARDS/'\n",
    "Pneumocystis = '/Pneumocystis/'\n",
    "Control1 = '/NIH/NoFinding/'\n",
    "Streptococcus = '/Streptococcus/'\n",
    "paths = [COVIDPath,Pneumonia1,Pneumonia2,Pneumonia3,Pneumonia4,SARS,ARDS,Pneumocystis,Streptococcus,Control1]\n",
    "mapping = ['COVID-19','pneumonia','pneumonia','pneumonia','pneumonia','pneumonia','pneumonia','pneumonia','pneumonia','normal']"
   ]
  },
  {
   "cell_type": "code",
   "execution_count": 3,
   "metadata": {},
   "outputs": [],
   "source": [
    "# parameters for COVIDx dataset\n",
    "train = []\n",
    "test = []\n",
    "test_count = {'normal': 0, 'pneumonia': 0, 'COVID-19': 0}\n",
    "train_count = {'normal': 0, 'pneumonia': 0, 'COVID-19': 0}\n",
    "filename_label = {'normal': [], 'pneumonia': [], 'COVID-19': []}\n",
    "path_label = {'normal': [], 'pneumonia': [], 'COVID-19': []}\n",
    "count = {'normal': 0, 'pneumonia': 0, 'COVID-19': 0}"
   ]
  },
  {
   "cell_type": "code",
   "execution_count": 4,
   "metadata": {},
   "outputs": [],
   "source": [
    "for i,directories in enumerate(paths):\n",
    "    arr = os.listdir(directories + '.')\n",
    "    for j,file in enumerate(arr):\n",
    "        count[mapping[i]] += 1\n",
    "        entry = [int(count[mapping[i]]), file, mapping[i]]\n",
    "        filename_label[mapping[i]].append(entry)\n",
    "        path_label[mapping[i]].append(directories)"
   ]
  },
  {
   "cell_type": "code",
   "execution_count": 5,
   "metadata": {},
   "outputs": [
    {
     "name": "stdout",
     "output_type": "stream",
     "text": [
      "test count:  {'normal': 2129, 'pneumonia': 120, 'COVID-19': 38}\n",
      "train count:  {'normal': 19166, 'pneumonia': 1089, 'COVID-19': 348}\n"
     ]
    }
   ],
   "source": [
    "np.random.seed(seed=2)\n",
    "test_per= 0.1\n",
    "for key in filename_label.keys():\n",
    "    arr = np.array(filename_label[key])\n",
    "    imgpath = np.array(path_label[key])\n",
    "    if arr.size == 0:\n",
    "        continue\n",
    "    if key == 'pneumonia':\n",
    "        test_patients = np.random.permutation(count[key])[:int(count[key]*test_per)]#['8', '31']\n",
    "    elif key == 'COVID-19':\n",
    "        test_patients = np.random.permutation(count[key])[:int(count[key]*test_per)]#['19', '20', '36', '42', '86'] # random.sample(list(arr[:,0]), num_test)\n",
    "    else: \n",
    "        test_patients = np.random.permutation(count[key])[:int(count[key]*test_per)]#[]\n",
    "    #print('Key: ', key)\n",
    "    #print('Test patients: ', test_patients)\n",
    "    # go through all the patients\n",
    "    for i,patient in enumerate(arr):\n",
    "        namesave = patient[1].replace(\" \", \"_\")\n",
    "        if int(patient[0]) in test_patients:\n",
    "            copyfile(os.path.join(imgpath[i], patient[1]), os.path.join(savepath, 'test', namesave))\n",
    "            patient[1] = namesave\n",
    "            test.append(patient)\n",
    "            test_count[patient[2]] += 1\n",
    "        else:\n",
    "            copyfile(os.path.join(imgpath[i], patient[1]), os.path.join(savepath, 'train', namesave))\n",
    "            patient[1] = namesave\n",
    "            if key == 'COVID-19':\n",
    "                train.append(patient)\n",
    "                train.append(patient)#Data augmentation\n",
    "                train.append(patient)#Data augmentation\n",
    "            elif key == 'pneumonia':\n",
    "                train.append(patient)\n",
    "                train.append(patient)\n",
    "                train.append(patient)#Data augmentation\n",
    "            else:\n",
    "                train.append(patient)\n",
    "            train_count[patient[2]] += 1\n",
    "\n",
    "print('test count: ', test_count)\n",
    "print('train count: ', train_count)"
   ]
  },
  {
   "cell_type": "code",
   "execution_count": 6,
   "metadata": {},
   "outputs": [
    {
     "name": "stdout",
     "output_type": "stream",
     "text": [
      "test count:  {'normal': 2535, 'pneumonia': 116, 'COVID-19': 38}\n",
      "train count:  {'normal': 31671, 'pneumonia': 1052, 'COVID-19': 348}\n"
     ]
    }
   ],
   "source": [
    "# path to https://www.kaggle.com/c/rsna-pneumonia-detection-challenge\n",
    "kaggle_datapath = '/home/julian/Documents/Datasets/rsna-pneumonia-detection-challenge'\n",
    "kaggle_csvname = '/home/julian/Documents/Datasets/rsna-pneumonia-detection-challenge/stage_2_detailed_class_info.csv' # get all the normal from here\n",
    "kaggle_csvname2 = '/home/julian/Documents/Datasets/rsna-pneumonia-detection-challenge/stage_2_train_labels.csv' # get all the 1s from here since 1 indicate pneumonia\n",
    "kaggle_imgpath = '/home/julian/Documents/Datasets/rsna-pneumonia-detection-challenge/stage_2_train_images'\n",
    "\n",
    "# add normal and rest of pneumonia cases from https://www.kaggle.com/c/rsna-pneumonia-detection-challenge\n",
    "csv_normal = pd.read_csv(os.path.join(kaggle_datapath, kaggle_csvname), nrows=None)\n",
    "csv_pneu = pd.read_csv(os.path.join(kaggle_datapath, kaggle_csvname2), nrows=None)\n",
    "patients = {'normal': [], 'pneumonia': []}\n",
    "\n",
    "for index, row in csv_normal.iterrows():\n",
    "    if row['class'] == 'Normal':\n",
    "        patients['normal'].append(row['patientId'])\n",
    "\n",
    "for index, row in csv_pneu.iterrows():\n",
    "    if int(row['Target']) == 1:\n",
    "        patients['pneumonia'].append(row['patientId'])\n",
    "\n",
    "for key in patients.keys():\n",
    "    if key == 'normal':\n",
    "        arr = np.array(patients[key])\n",
    "        if arr.size == 0:\n",
    "            continue\n",
    "        # split by patients \n",
    "        # num_diff_patients = len(np.unique(arr))\n",
    "        # num_test = max(1, round(split*num_diff_patients))\n",
    "        test_patients = []#np.load('rsna_test_patients_{}.npy'.format(key)) # random.sample(list(arr), num_test), download the .npy files from the repo.\n",
    "        # np.save('rsna_test_patients_{}.npy'.format(key), np.array(test_patients))\n",
    "        for patient in arr:\n",
    "            ds = dicom.dcmread(os.path.join(kaggle_datapath, kaggle_imgpath, patient + '.dcm'))\n",
    "            pixel_array_numpy = ds.pixel_array\n",
    "            imgname = patient + '.png'\n",
    "            if patient in test_patients:\n",
    "                cv2.imwrite(os.path.join(savepath, 'test', imgname), pixel_array_numpy)\n",
    "                test.append([patient, imgname, key])\n",
    "                test_count[key] += 1\n",
    "            else:\n",
    "                cv2.imwrite(os.path.join(savepath, 'train', imgname), pixel_array_numpy)\n",
    "                train.append([patient, imgname, key])\n",
    "                train_count[key] += 1\n",
    "\n",
    "print('test count: ', test_count)\n",
    "print('train count: ', train_count)"
   ]
  },
  {
   "cell_type": "code",
   "execution_count": 6,
   "metadata": {},
   "outputs": [],
   "source": [
    "train_file = open(\"train_split_v2.txt\",\"a\") \n",
    "for sample in train:\n",
    "    info = str(sample[0]) + ' ' + sample[1] + ' ' + sample[2] + '\\n'\n",
    "    train_file.write(info)\n",
    "\n",
    "train_file.close()\n",
    "\n",
    "test_file = open(\"test_split_v2.txt\", \"a\")\n",
    "for sample in test:\n",
    "    info = str(sample[0]) + ' ' + sample[1] + ' ' + sample[2] + '\\n'\n",
    "    test_file.write(info)\n",
    "\n",
    "test_file.close()"
   ]
  },
  {
   "cell_type": "code",
   "execution_count": null,
   "metadata": {},
   "outputs": [],
   "source": []
  }
 ],
 "metadata": {
  "kernelspec": {
   "display_name": "Python [conda env:snakes] *",
   "language": "python",
   "name": "conda-env-snakes-py"
  },
  "language_info": {
   "codemirror_mode": {
    "name": "ipython",
    "version": 3
   },
   "file_extension": ".py",
   "mimetype": "text/x-python",
   "name": "python",
   "nbconvert_exporter": "python",
   "pygments_lexer": "ipython3",
   "version": "3.7.7"
  }
 },
 "nbformat": 4,
 "nbformat_minor": 4
}
