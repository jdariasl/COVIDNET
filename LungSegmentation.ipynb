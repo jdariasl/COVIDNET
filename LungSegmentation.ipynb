{
 "cells": [
  {
   "cell_type": "code",
   "execution_count": 1,
   "metadata": {},
   "outputs": [],
   "source": [
    "from tensorflow.keras.models import load_model\n",
    "import numpy as np\n",
    "from skimage import transform, io, img_as_float, exposure, morphology, img_as_ubyte\n",
    "import matplotlib.pyplot as plt\n",
    "import os\n",
    "from PIL import Image\n",
    "from shutil import move\n",
    "import cv2 "
   ]
  },
  {
   "cell_type": "code",
   "execution_count": 2,
   "metadata": {},
   "outputs": [
    {
     "name": "stdout",
     "output_type": "stream",
     "text": [
      "WARNING:tensorflow:Error in loading the saved optimizer state. As a result, your model is starting with a freshly initialized optimizer.\n"
     ]
    }
   ],
   "source": [
    "# Load model\n",
    "model_name = '/home/julian/Documents/PythonExperiments/COVIDNet/segmenter/trained_model.hdf5'\n",
    "UNet = load_model(model_name)"
   ]
  },
  {
   "cell_type": "code",
   "execution_count": 3,
   "metadata": {},
   "outputs": [],
   "source": [
    "def loadDataGeneral(path, im_shape):\n",
    "    \"\"\"Function for loading arbitrary data in standard formats\"\"\"\n",
    "    X = []   \n",
    "    #image = Image.open(path).convert('RGB')\n",
    "    image = cv2.imread(path)\n",
    "    image = np.array(image)\n",
    "    img = img_as_float(image)\n",
    "    img = transform.resize(img, im_shape)\n",
    "    img = exposure.equalize_hist(img)\n",
    "    img = np.expand_dims(img, -1)\n",
    "    X.append(img)\n",
    "    X = np.array(X)\n",
    "    X -= X.mean()\n",
    "    X /= X.std()\n",
    "    return X, img"
   ]
  },
  {
   "cell_type": "code",
   "execution_count": 4,
   "metadata": {},
   "outputs": [],
   "source": [
    "def remove_small_regions(img, size):\n",
    "    \"\"\"Morphologically removes small (less than size) connected regions of 0s or 1s.\"\"\"\n",
    "    img = morphology.remove_small_objects(img, size)\n",
    "    img = morphology.remove_small_holes(img, size)\n",
    "    return img"
   ]
  },
  {
   "cell_type": "code",
   "execution_count": 5,
   "metadata": {},
   "outputs": [
    {
     "name": "stderr",
     "output_type": "stream",
     "text": [
      "/home/julian/.local/lib/python3.7/site-packages/skimage/exposure/exposure.py:181: UserWarning: This might be a color image. The histogram will be computed on the flattened image. You can instead apply this function to each color channel.\n",
      "  hist, bin_centers = histogram(image, nbins)\n"
     ]
    }
   ],
   "source": [
    "im_shape = (256, 256)\n",
    "path = '/home/julian/Documents/PythonExperiments/COVIDNet/Datos/DatosExperimentos_3/OrgImages/'\n",
    "path2 = '/home/julian/Documents/PythonExperiments/COVIDNet/Datos/DatosExperimentos_3/RemoveSegmented/'\n",
    "path3 = '/home/julian/Documents/PythonExperiments/COVIDNet/Datos/DatosExperimentos_3/BrokenFiles/'\n",
    "arr = os.listdir(path + '.')\n",
    "for j,file in enumerate(arr):\n",
    "    try:\n",
    "        image_name = path + file\n",
    "        X,img_org = loadDataGeneral(image_name, im_shape)\n",
    "        img = exposure.rescale_intensity(np.squeeze(X), out_range=(0,1))\n",
    "        img = np.sum(img,axis=2)[None,:,:,None]\n",
    "        pred = UNet.predict(img)\n",
    "        #-------------------------\n",
    "        pr = pred > 0.5\n",
    "        # Remove regions smaller than 2% of the image\n",
    "        pr = remove_small_regions(pr, 0.02 * np.prod(im_shape))\n",
    "        pr2 = np.squeeze(pr)\n",
    "        seg_img = np.squeeze(img_org)*pr2[:,:,None]#np.dstack((pr2, pr2, pr2))\n",
    "        maximo = np.max(seg_img)\n",
    "        minimo = np.min(seg_img)\n",
    "        if (maximo==0) and (minimo == 0):\n",
    "            #print(file)\n",
    "            move(image_name,path2 + file)\n",
    "        else:\n",
    "            seg_img /= maximo\n",
    "            #seg_img = (seg_img - minimo)/(maximo-minimo)\n",
    "            #io.imshow(seg_img)\n",
    "            save_path = '/home/julian/Documents/PythonExperiments/COVIDNet/Datos/DatosExperimentos_3/OrgImagesSegmented/'+ file\n",
    "            io.imsave(save_path,img_as_ubyte(seg_img))\n",
    "    except:\n",
    "        move(image_name,path3 + file)\n",
    "        #break"
   ]
  },
  {
   "cell_type": "code",
   "execution_count": null,
   "metadata": {},
   "outputs": [],
   "source": []
  }
 ],
 "metadata": {
  "kernelspec": {
   "display_name": "Python 3",
   "language": "python",
   "name": "python3"
  },
  "language_info": {
   "codemirror_mode": {
    "name": "ipython",
    "version": 3
   },
   "file_extension": ".py",
   "mimetype": "text/x-python",
   "name": "python",
   "nbconvert_exporter": "python",
   "pygments_lexer": "ipython3",
   "version": "3.7.7"
  }
 },
 "nbformat": 4,
 "nbformat_minor": 4
}
